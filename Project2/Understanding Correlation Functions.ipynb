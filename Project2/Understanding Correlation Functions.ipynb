{
 "cells": [
  {
   "cell_type": "code",
   "execution_count": 1,
   "metadata": {},
   "outputs": [],
   "source": [
    "import numpy as np\n",
    "import matplotlib.pyplot as plt"
   ]
  },
  {
   "cell_type": "markdown",
   "metadata": {},
   "source": [
    "## The need for time - correlation functions\n",
    "\n",
    "* Time correlation functions are important when analyzing time series data.\n",
    "* An example is shown below"
   ]
  },
  {
   "cell_type": "markdown",
   "metadata": {},
   "source": [
    "### Generating non-correlated time series data"
   ]
  },
  {
   "cell_type": "code",
   "execution_count": 5,
   "metadata": {},
   "outputs": [],
   "source": [
    "nsteps = 10000\n",
    "time_series = []"
   ]
  },
  {
   "cell_type": "code",
   "execution_count": 10,
   "metadata": {},
   "outputs": [],
   "source": [
    "for i in range(nsteps):\n",
    "    time_series.append(np.random.uniform(0, 1))\n",
    "time_series = np.array(time_series)"
   ]
  },
  {
   "cell_type": "markdown",
   "metadata": {},
   "source": [
    "* This time series data consists of points sampled from a uniform distribution\n",
    "* There is no correlation between $x(t)$ and $x(t + 1)$"
   ]
  },
  {
   "cell_type": "code",
   "execution_count": 13,
   "metadata": {},
   "outputs": [
    {
     "data": {
      "image/png": "[encoded data removed]",
      "text/plain": [
       "<Figure size 432x288 with 1 Axes>"
      ]
     },
     "metadata": {
      "needs_background": "light"
     },
     "output_type": "display_data"
    }
   ],
   "source": [
    "_ = plt.hist(time_series, bins = 40)"
   ]
  },
  {
   "cell_type": "markdown",
   "metadata": {},
   "source": [
    "* Plotting the auto-correlation function $c(t)$ for the above data"
   ]
  },
  {
   "cell_type": "code",
   "execution_count": 21,
   "metadata": {},
   "outputs": [],
   "source": [
    "def auto_correlation(data, t):\n",
    "    \"\"\"\n",
    "    Args -\n",
    "    data : 1-d numpy time series data\n",
    "    t : the time-lag, should be an integer in the range [0, len)\n",
    "    \n",
    "    Return value - \n",
    "    The auto-correlation function c(t)\n",
    "    \"\"\"\n",
    "    len_data = len(data[t:])\n",
    "    mean = data.mean()\n",
    "    num = (data[:len_data] * data[t:t + len_data]).mean() - mean**2\n",
    "    var = (data**2).mean() - (mean)**2\n",
    "    return num / var\n",
    "    "
   ]
  },
  {
   "cell_type": "code",
   "execution_count": 45,
   "metadata": {},
   "outputs": [],
   "source": [
    "taus = np.arange(0, 250)\n",
    "auto_corrs = np.array([auto_correlation(time_series, tau) for tau in taus])"
   ]
  },
  {
   "cell_type": "code",
   "execution_count": 46,
   "metadata": {},
   "outputs": [
    {
     "data": {
      "text/plain": [
       "Text(0, 0.5, 'c(t)')"
      ]
     },
     "execution_count": 46,
     "metadata": {},
     "output_type": "execute_result"
    },
    {
     "data": {
      "image/png": "[encoded data removed]",
      "text/plain": [
       "<Figure size 432x288 with 1 Axes>"
      ]
     },
     "metadata": {
      "needs_background": "light"
     },
     "output_type": "display_data"
    }
   ],
   "source": [
    "plt.plot(taus, auto_corrs)\n",
    "plt.xlabel('t')\n",
    "plt.ylabel('c(t)')"
   ]
  },
  {
   "cell_type": "markdown",
   "metadata": {},
   "source": [
    "* This auto-correlation function can be written as a delta-function, $c(\\tau) = <x(t) . x(t + \\tau)> = \\delta(\\tau)$ "
   ]
  },
  {
   "cell_type": "markdown",
   "metadata": {},
   "source": [
    "### Generating correlated time series data, and its autocorrelation"
   ]
  },
  {
   "cell_type": "markdown",
   "metadata": {},
   "source": [
    "* Generating data such that $x(t + 1) = (0.95 * x(t) + 2 * random)$"
   ]
  },
  {
   "cell_type": "code",
   "execution_count": 47,
   "metadata": {},
   "outputs": [],
   "source": [
    "coor_ts = []\n",
    "prev = 0.\n",
    "for i in range(0,10001):\n",
    "    new = 0.95*prev + 2*np.random.uniform(0,1)\n",
    "    coor_ts.append(new)\n",
    "    prev = new\n",
    "coor_ts = np.array(coor_ts)"
   ]
  },
  {
   "cell_type": "code",
   "execution_count": 48,
   "metadata": {},
   "outputs": [],
   "source": [
    "taus = np.arange(0, 250)\n",
    "auto_corrs_new = np.array([auto_correlation(coor_ts, tau) for tau in taus])"
   ]
  },
  {
   "cell_type": "code",
   "execution_count": 49,
   "metadata": {},
   "outputs": [
    {
     "data": {
      "text/plain": [
       "Text(0, 0.5, 'c(t)')"
      ]
     },
     "execution_count": 49,
     "metadata": {},
     "output_type": "execute_result"
    },
    {
     "data": {
      "image/png": "[encoded data removed]",
      "text/plain": [
       "<Figure size 432x288 with 1 Axes>"
      ]
     },
     "metadata": {
      "needs_background": "light"
     },
     "output_type": "display_data"
    }
   ],
   "source": [
    "plt.plot(taus, auto_corrs_new)\n",
    "plt.xlabel('t')\n",
    "plt.ylabel('c(t)')"
   ]
  },
  {
   "cell_type": "markdown",
   "metadata": {},
   "source": [
    "* The correlation function drops to 0 almost immediately as t increases for non-correlated data, but decreases gradually for correlated data.\n",
    "* The area under this curve, $t_c = \\int c(t) dt$, is an indicator of how much time it would take for the system to become memory less, i.e. it would be almost impossible to determine the value of x(0) from x(t_c)."
   ]
  }
 ],
 "metadata": {
  "kernelspec": {
   "display_name": "MD",
   "language": "python",
   "name": "md"
  },
  "language_info": {
   "codemirror_mode": {
    "name": "ipython",
    "version": 3
   },
   "file_extension": ".py",
   "mimetype": "text/x-python",
   "name": "python",
   "nbconvert_exporter": "python",
   "pygments_lexer": "ipython3",
   "version": "3.6.12"
  }
 },
 "nbformat": 4,
 "nbformat_minor": 2
}
